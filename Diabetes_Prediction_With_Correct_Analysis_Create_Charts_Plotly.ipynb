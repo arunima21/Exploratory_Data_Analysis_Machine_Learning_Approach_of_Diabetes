{
 "cells": [
  {
   "cell_type": "code",
   "execution_count": null,
   "id": "55213e94-6477-46be-bcc7-f547378d1c71",
   "metadata": {},
   "outputs": [],
   "source": [
    "import pandas as pd\n",
    "import numpy as np\n",
    "import seaborn as sns\n",
    "import plotly.graph_objects as go\n",
    "import plotly.express as px"
   ]
  },
  {
   "cell_type": "code",
   "execution_count": null,
   "id": "22aece62-ecd6-499a-b07d-0cb5dff64ec7",
   "metadata": {},
   "outputs": [],
   "source": [
    "!pip install plotly"
   ]
  },
  {
   "cell_type": "code",
   "execution_count": null,
   "id": "abfccf39-5945-4ef3-b8be-1d81c00c13a5",
   "metadata": {},
   "outputs": [],
   "source": [
    "df_final = pd.read_csv(r'C:\\Sample_Data\\New_Folder\\final_data_cleaned_17nov.csv')"
   ]
  },
  {
   "cell_type": "code",
   "execution_count": null,
   "id": "a53599b7-46df-4ac0-a053-aba8ad637ac8",
   "metadata": {},
   "outputs": [],
   "source": [
    "df_final"
   ]
  },
  {
   "cell_type": "code",
   "execution_count": null,
   "id": "02412b1e-4525-4eb5-85d4-81ee46101715",
   "metadata": {},
   "outputs": [],
   "source": [
    "data_cleaned = df_final.loc[:, ~df_final.columns.str.contains('^Unnamed')]"
   ]
  },
  {
   "cell_type": "markdown",
   "id": "6b580ac9-e72c-4f92-a802-c3cc8cb4de21",
   "metadata": {},
   "source": [
    "# Check whether NAN value in Citizenship column in dataframe "
   ]
  },
  {
   "cell_type": "code",
   "execution_count": null,
   "id": "fe4034e1-3804-46db-b399-0dda80694471",
   "metadata": {},
   "outputs": [],
   "source": [
    "column_name = 'Citizenship'"
   ]
  },
  {
   "cell_type": "code",
   "execution_count": null,
   "id": "60656cd6-7f8c-4f77-a30f-9422093bffba",
   "metadata": {},
   "outputs": [],
   "source": [
    "nan_count = data_cleaned[column_name].isnull().sum()\n",
    "print(f\"The column '{column_name}' contains {nan_count} NaN value(s).\")"
   ]
  },
  {
   "cell_type": "markdown",
   "id": "b0b89553-e8d2-479a-b218-5f19b3024014",
   "metadata": {},
   "source": [
    "# Check whether 'NAN' value contains in a dataframe"
   ]
  },
  {
   "cell_type": "code",
   "execution_count": null,
   "id": "748c0f17-679d-45e6-9ff3-a2e6ebdadc13",
   "metadata": {},
   "outputs": [],
   "source": [
    "nan_df = data_cleaned.isna()"
   ]
  },
  {
   "cell_type": "code",
   "execution_count": null,
   "id": "028de5e5-d2e7-4d77-b2d6-4c6cecc5d1e6",
   "metadata": {},
   "outputs": [],
   "source": [
    "nan_df"
   ]
  },
  {
   "cell_type": "markdown",
   "id": "fb6b5678-b027-42ca-bf97-43413722466d",
   "metadata": {},
   "source": [
    "# To Count NaN Values in a Column"
   ]
  },
  {
   "cell_type": "code",
   "execution_count": null,
   "id": "1bd0ac67-1c0d-4fa4-a4e5-7777ab6a1d2b",
   "metadata": {},
   "outputs": [],
   "source": [
    "nan_count = data[column_name].isnull().sum()\n",
    "print(f\"The column '{column_name}' contains {nan_count} NaN value(s).\")"
   ]
  },
  {
   "cell_type": "markdown",
   "id": "59b8a9ed-6c5e-431e-bcb3-d8d998458318",
   "metadata": {},
   "source": [
    "# Remove rows with NaN or False values"
   ]
  },
  {
   "cell_type": "code",
   "execution_count": null,
   "id": "89c7018a-2d83-47e0-b65c-b0c7dc12f5b6",
   "metadata": {},
   "outputs": [],
   "source": [
    "modified_df = data_cleaned[~df_final.isna().any(axis=1)]"
   ]
  },
  {
   "cell_type": "code",
   "execution_count": null,
   "id": "e7815b7f-c01e-40a8-8a6e-1f5be10fa8db",
   "metadata": {},
   "outputs": [],
   "source": [
    "modified_df"
   ]
  },
  {
   "cell_type": "code",
   "execution_count": null,
   "id": "d2f3dec4-8e7a-4d53-8fa6-2707a20530bb",
   "metadata": {},
   "outputs": [],
   "source": [
    "column_name = 'AgeYears'\n",
    "if column_name in modified_df.columns:\n",
    "    print(f\"Column '{column_name}' exists in the dataset.\")\n",
    "else:\n",
    "    print(f\"Column '{column_name}' does not exist in the dataset.\")"
   ]
  },
  {
   "cell_type": "markdown",
   "id": "1f00bbac-5015-4fe9-b94f-10620458646f",
   "metadata": {},
   "source": [
    "# Clean missing value in a Dataframe"
   ]
  },
  {
   "cell_type": "code",
   "execution_count": null,
   "id": "b28cfe2a-ad49-4b59-9080-7c01939226fb",
   "metadata": {},
   "outputs": [],
   "source": [
    "modified_df.isnull().sum()"
   ]
  },
  {
   "cell_type": "code",
   "execution_count": null,
   "id": "58902075-8687-4ff7-abcc-fb456559aff9",
   "metadata": {},
   "outputs": [],
   "source": [
    "fig = go.Figure(data=[\n",
    "    go.Bar(name='Diabetic', x=df_final['AgeYears'], y=df_final['is_diabetic'], marker = {'color': 'red'}),\n",
    "    go.Bar(name='High Risk', x=df_final['AgeYears'], y=df_final['high_risk'], marker = {'color': 'blue'}),\n",
    "])"
   ]
  },
  {
   "cell_type": "code",
   "execution_count": null,
   "id": "263daf02-e760-452c-9db3-a4d1e4b52b61",
   "metadata": {},
   "outputs": [],
   "source": [
    "fig.update_traces(dict(marker_line_width=0))"
   ]
  },
  {
   "cell_type": "code",
   "execution_count": null,
   "id": "f21e234d-9482-4b57-a2a1-dda4b5ee8a1b",
   "metadata": {},
   "outputs": [],
   "source": [
    "fig.update_layout(barmode='group', title=\"Count of Diabetic and High Risk Individuals per AgeYears\", yaxis_title=\"Count of Diabetic & High Risk Individuals\", xaxis_title=\"AgeYears\")\n",
    "fig.update_xaxes(categoryorder='category ascending')\n",
    "fig.show()"
   ]
  },
  {
   "cell_type": "code",
   "execution_count": null,
   "id": "cd7140d1-9476-4b71-be3b-7addd2186ef7",
   "metadata": {},
   "outputs": [],
   "source": [
    "fig.update_xaxes(categoryorder='category ascending')"
   ]
  },
  {
   "cell_type": "code",
   "execution_count": null,
   "id": "9be33eba-3362-4fc0-8afa-9793465e3a98",
   "metadata": {},
   "outputs": [],
   "source": [
    "fig.show()"
   ]
  },
  {
   "cell_type": "code",
   "execution_count": null,
   "id": "1f14b11c-2532-4e04-b446-c31a0aeffa4b",
   "metadata": {},
   "outputs": [],
   "source": [
    "s1 = modified_df[modified_df['is_diabetic'] == 1].sample(896).index\n",
    "s0 = modified_df[modified_df['is_diabetic'] == 0].sample(1796).index"
   ]
  },
  {
   "cell_type": "code",
   "execution_count": null,
   "id": "997085b6-879b-4838-8b54-1f20a35e35b1",
   "metadata": {},
   "outputs": [],
   "source": [
    "final_modified_df = modified_df.loc[s0.union(s1)]"
   ]
  },
  {
   "cell_type": "code",
   "execution_count": null,
   "id": "e38499dc-016b-4ced-bbb6-279493422d99",
   "metadata": {},
   "outputs": [],
   "source": [
    "print('True Negative: {}'.format(final_modified_df[(final_modified_df['high_risk'] == 0) & (final_modified_df['is_diabetic'] == 0)].shape[0]))"
   ]
  },
  {
   "cell_type": "code",
   "execution_count": null,
   "id": "315f42fa-5db2-4c64-bed5-68a3d7f9fea7",
   "metadata": {},
   "outputs": [],
   "source": [
    "print('True Positive: {}'.format(final_modified_df[(final_modified_df['high_risk'] == 1) & (final_modified_df['is_diabetic'] == 1)].shape[0]))"
   ]
  },
  {
   "cell_type": "code",
   "execution_count": null,
   "id": "2ccd0752-9d3a-464a-9b6c-f67da8a861e1",
   "metadata": {},
   "outputs": [],
   "source": [
    "print('False Negative: {}'.format(final_modified_df[(final_modified_df['high_risk'] == 0) & (final_modified_df['is_diabetic'] == 1)].shape[0]))"
   ]
  },
  {
   "cell_type": "code",
   "execution_count": null,
   "id": "75355f82-8368-43ad-931b-ffab09026aa7",
   "metadata": {},
   "outputs": [],
   "source": [
    "print('False Positive: {}'.format(final_modified_df[(final_modified_df['high_risk'] == 1) & (final_modified_df['is_diabetic'] == 0)].shape[0]))"
   ]
  },
  {
   "cell_type": "code",
   "execution_count": null,
   "id": "69ea4dad-a76d-4b50-8a45-824687702f93",
   "metadata": {},
   "outputs": [],
   "source": []
  }
 ],
 "metadata": {
  "kernelspec": {
   "display_name": "Python 3 (ipykernel)",
   "language": "python",
   "name": "python3"
  },
  "language_info": {
   "codemirror_mode": {
    "name": "ipython",
    "version": 3
   },
   "file_extension": ".py",
   "mimetype": "text/x-python",
   "name": "python",
   "nbconvert_exporter": "python",
   "pygments_lexer": "ipython3",
   "version": "3.12.4"
  }
 },
 "nbformat": 4,
 "nbformat_minor": 5
}
